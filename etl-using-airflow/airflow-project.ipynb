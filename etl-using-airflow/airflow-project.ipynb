{
 "cells": [
  {
   "attachments": {},
   "cell_type": "markdown",
   "metadata": {},
   "source": [
    "Step 1: Start Airflow"
   ]
  },
  {
   "cell_type": "code",
   "execution_count": null,
   "metadata": {},
   "outputs": [],
   "source": []
  },
  {
   "attachments": {},
   "cell_type": "markdown",
   "metadata": {},
   "source": [
    "Step 2: Create a directory for staging area"
   ]
  },
  {
   "cell_type": "code",
   "execution_count": null,
   "metadata": {},
   "outputs": [],
   "source": [
    "!mkdir -p /home/project/airflow/dags/finalassignment/staging\n",
    "!sudo chmod -R 777 /home/project/airflow/dags/finalassignment"
   ]
  },
  {
   "attachments": {},
   "cell_type": "markdown",
   "metadata": {},
   "source": [
    "Step 3: Download a dataset from the source to the destination"
   ]
  },
  {
   "cell_type": "code",
   "execution_count": null,
   "metadata": {},
   "outputs": [],
   "source": [
    "!sudo wget -P /home/project/airflow/dags/finalassignment https://cf-courses-data.s3.us.cloud-object-storage.appdomain.cloud/IBM-DB0250EN-SkillsNetwork/labs/Final%20Assignment/tolldata.tgz"
   ]
  },
  {
   "attachments": {},
   "cell_type": "markdown",
   "metadata": {},
   "source": [
    "Step 4: Go to the staging directory"
   ]
  },
  {
   "cell_type": "code",
   "execution_count": null,
   "metadata": {},
   "outputs": [],
   "source": [
    "!cd /home/project/airflow/dags/finalassignment/staging"
   ]
  },
  {
   "attachments": {},
   "cell_type": "markdown",
   "metadata": {},
   "source": [
    "Step 5: Create a Python file"
   ]
  },
  {
   "cell_type": "code",
   "execution_count": null,
   "metadata": {},
   "outputs": [],
   "source": [
    "!sudo touch ETL_toll_data.py"
   ]
  },
  {
   "attachments": {},
   "cell_type": "markdown",
   "metadata": {},
   "source": [
    "Step 6: Code"
   ]
  },
  {
   "cell_type": "code",
   "execution_count": null,
   "metadata": {},
   "outputs": [],
   "source": [
    "from airflow import DAG\n",
    "from airflow.utils.dates import days_ago\n",
    "from datetime import timedelta\n",
    "from airflow.operators.bash_operator import BashOperator\n",
    "\n",
    "#This code has been tested on Airflow 2.3.3.\n",
    "#The code works seamlessly, took me 2 days to debug it.\n",
    "default_args = {\n",
    "    'owner': 'James T. Kirk',\n",
    "    'start_date': days_ago(0),\n",
    "    'email': 'jamestkirk@exemplo.com.br',\n",
    "    'email_on_failure': True,\n",
    "    'email_on_retry': True,\n",
    "    'retries': 1,\n",
    "    'retry_delay': timedelta(minutes=5),\n",
    "}\n",
    "\n",
    "dag = DAG(dag_id = 'ETL_toll_data',\n",
    "          description = 'Apache Airflow Final Assignment',\n",
    "          default_args = default_args,\n",
    "          schedule_interval = timedelta(days = 1),\n",
    ")\n",
    "\n",
    "unzip_data = BashOperator(\n",
    "    task_id = 'unzip_data',\n",
    "    bash_command = ('tar -xzf '\n",
    "                    '/home/project/airflow/dags/finalassignment/tolldata.tgz '\n",
    "                    '-C /home/project/airflow/dags/finalassignment/staging'\n",
    "    ),\n",
    "    dag = dag,\n",
    ")\n",
    "\n",
    "extract_data_from_csv = BashOperator(\n",
    "    task_id = 'extract_data_from_csv',\n",
    "    bash_command = ('cut -d\",\" -f1-4 '\n",
    "                    '< /home/project/airflow/dags/finalassignment/staging/vehicle-data.csv '\n",
    "                    '> /home/project/airflow/dags/finalassignment/staging/csv_data.csv'\n",
    "    ),\n",
    "    dag = dag,\n",
    ")\n",
    "\n",
    "extract_data_from_tsv = BashOperator(\n",
    "    task_id = 'extract_data_from_tsv',\n",
    "    #-d does not need to be declared, since TAB is the default delimiter on cut command\n",
    "    bash_command = ('cut -f5-7 --output-delimiter=\",\" '\n",
    "                    '< /home/project/airflow/dags/finalassignment/staging/tollplaza-data.tsv '\n",
    "                    '> /home/project/airflow/dags/finalassignment/staging/tsv_data.csv'\n",
    "    ),\n",
    "    dag = dag,\n",
    ")\n",
    "\n",
    "extract_data_from_fixed_width = BashOperator(\n",
    "    task_id = 'extract_data_from_fixed_width',\n",
    "    bash_command = ('cut -c 59-61,63-67 --output-delimiter=\",\" '\n",
    "                    '< /home/project/airflow/dags/finalassignment/staging/payment-data.txt '\n",
    "                    '> /home/project/airflow/dags/finalassignment/staging/fixed_width_data.csv'\n",
    "    ),\n",
    "    dag = dag,\n",
    ")\n",
    "\n",
    "consolidate_data = BashOperator(\n",
    "    task_id = 'consolidate_data',\n",
    "    bash_command = ('paste -d\",\" '\n",
    "                    '/home/project/airflow/dags/finalassignment/staging/csv_data.csv '\n",
    "                    '/home/project/airflow/dags/finalassignment/staging/tsv_data.csv '\n",
    "                    '/home/project/airflow/dags/finalassignment/staging/fixed_width_data.csv '\n",
    "                    '> /home/project/airflow/dags/finalassignment/staging/extracted_data.csv'\n",
    "    ),\n",
    "    dag = dag,\n",
    ")\n",
    "\n",
    "transform_data = BashOperator(\n",
    "    task_id = 'transform_data',\n",
    "    #First remove the carriage return control character, then change the field as requested\n",
    "    bash_command = ('''tr -d '\\\\r' '''\n",
    "                    '''< /home/project/airflow/dags/finalassignment/staging/extracted_data.csv '''\n",
    "                    '''| awk 'BEGIN{FS=\",\"; OFS=\",\"} {$4 = toupper($4)}1' '''\n",
    "                    '''> /home/project/airflow/dags/finalassignment/staging/transformed_data.csv'''\n",
    "    ),\n",
    "    dag = dag,\n",
    ")\n",
    "\n",
    "unzip_data >> extract_data_from_csv >> extract_data_from_tsv >> extract_data_from_fixed_width >> consolidate_data >> transform_data"
   ]
  },
  {
   "attachments": {},
   "cell_type": "markdown",
   "metadata": {},
   "source": [
    "Step 7: Define DAG arguments"
   ]
  },
  {
   "attachments": {},
   "cell_type": "markdown",
   "metadata": {},
   "source": [
    "Submitting the DAG"
   ]
  },
  {
   "cell_type": "code",
   "execution_count": null,
   "metadata": {},
   "outputs": [],
   "source": [
    "!mv ETL_toll_data.py $AIRFLOW_HOME/dags"
   ]
  },
  {
   "attachments": {},
   "cell_type": "markdown",
   "metadata": {},
   "source": [
    "Unpausing the DAG"
   ]
  },
  {
   "cell_type": "code",
   "execution_count": null,
   "metadata": {},
   "outputs": [],
   "source": [
    "!airflow dags unpause ETL_toll_data.py"
   ]
  }
 ],
 "metadata": {
  "kernelspec": {
   "display_name": "bruno",
   "language": "python",
   "name": "python3"
  },
  "language_info": {
   "name": "python",
   "version": "3.10.9"
  },
  "orig_nbformat": 4,
  "vscode": {
   "interpreter": {
    "hash": "49c5129af52e5ae292242ff4c781e23b5dd85e482bbbd8076ed194ed4ccd146f"
   }
  }
 },
 "nbformat": 4,
 "nbformat_minor": 2
}
