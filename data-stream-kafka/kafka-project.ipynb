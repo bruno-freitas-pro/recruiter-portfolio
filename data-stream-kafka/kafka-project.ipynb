{
 "cells": [
  {
   "attachments": {},
   "cell_type": "markdown",
   "metadata": {},
   "source": [
    "### Preparation"
   ]
  },
  {
   "attachments": {},
   "cell_type": "markdown",
   "metadata": {},
   "source": [
    "Step 1: install dependencies, if not installed"
   ]
  },
  {
   "cell_type": "code",
   "execution_count": 1,
   "metadata": {},
   "outputs": [
    {
     "name": "stdout",
     "output_type": "stream",
     "text": [
      "Collecting sqlalchemy\n",
      "  Downloading SQLAlchemy-2.0.4-cp311-cp311-manylinux_2_17_x86_64.manylinux2014_x86_64.whl (2.8 MB)\n",
      "\u001b[2K     \u001b[90m━━━━━━━━━━━━━━━━━━━━━━━━━━━━━━━━━━━━━━━━\u001b[0m \u001b[32m2.8/2.8 MB\u001b[0m \u001b[31m5.5 MB/s\u001b[0m eta \u001b[36m0:00:00\u001b[0m00:01\u001b[0m00:01\u001b[0m\n",
      "\u001b[?25hCollecting ipython-sql\n",
      "  Using cached ipython_sql-0.5.0-py3-none-any.whl (20 kB)\n",
      "Collecting kafka-python\n",
      "  Using cached kafka_python-2.0.2-py2.py3-none-any.whl (246 kB)\n",
      "Requirement already satisfied: typing-extensions>=4.2.0 in /home/bruno/miniconda3/envs/mytest/lib/python3.11/site-packages (from sqlalchemy) (4.4.0)\n",
      "Collecting greenlet!=0.4.17\n",
      "  Downloading greenlet-2.0.2-cp311-cp311-manylinux_2_17_x86_64.manylinux2014_x86_64.whl (618 kB)\n",
      "\u001b[2K     \u001b[90m━━━━━━━━━━━━━━━━━━━━━━━━━━━━━━━━━━━━━━━\u001b[0m \u001b[32m618.8/618.8 kB\u001b[0m \u001b[31m7.2 MB/s\u001b[0m eta \u001b[36m0:00:00\u001b[0m00:01\u001b[0m00:01\u001b[0m\n",
      "\u001b[?25hCollecting prettytable\n",
      "  Using cached prettytable-3.6.0-py3-none-any.whl (27 kB)\n",
      "Requirement already satisfied: ipython in /home/bruno/miniconda3/envs/mytest/lib/python3.11/site-packages (from ipython-sql) (8.11.0)\n",
      "Collecting sqlparse\n",
      "  Using cached sqlparse-0.4.3-py3-none-any.whl (42 kB)\n",
      "Requirement already satisfied: six in /home/bruno/miniconda3/envs/mytest/lib/python3.11/site-packages (from ipython-sql) (1.16.0)\n",
      "Requirement already satisfied: ipython-genutils in /home/bruno/miniconda3/envs/mytest/lib/python3.11/site-packages (from ipython-sql) (0.2.0)\n",
      "Requirement already satisfied: backcall in /home/bruno/miniconda3/envs/mytest/lib/python3.11/site-packages (from ipython->ipython-sql) (0.2.0)\n",
      "Requirement already satisfied: decorator in /home/bruno/miniconda3/envs/mytest/lib/python3.11/site-packages (from ipython->ipython-sql) (5.1.1)\n",
      "Requirement already satisfied: jedi>=0.16 in /home/bruno/miniconda3/envs/mytest/lib/python3.11/site-packages (from ipython->ipython-sql) (0.18.2)\n",
      "Requirement already satisfied: matplotlib-inline in /home/bruno/miniconda3/envs/mytest/lib/python3.11/site-packages (from ipython->ipython-sql) (0.1.6)\n",
      "Requirement already satisfied: pickleshare in /home/bruno/miniconda3/envs/mytest/lib/python3.11/site-packages (from ipython->ipython-sql) (0.7.5)\n",
      "Requirement already satisfied: prompt-toolkit!=3.0.37,<3.1.0,>=3.0.30 in /home/bruno/miniconda3/envs/mytest/lib/python3.11/site-packages (from ipython->ipython-sql) (3.0.38)\n",
      "Requirement already satisfied: pygments>=2.4.0 in /home/bruno/miniconda3/envs/mytest/lib/python3.11/site-packages (from ipython->ipython-sql) (2.14.0)\n",
      "Requirement already satisfied: stack-data in /home/bruno/miniconda3/envs/mytest/lib/python3.11/site-packages (from ipython->ipython-sql) (0.6.2)\n",
      "Requirement already satisfied: traitlets>=5 in /home/bruno/miniconda3/envs/mytest/lib/python3.11/site-packages (from ipython->ipython-sql) (5.9.0)\n",
      "Requirement already satisfied: pexpect>4.3 in /home/bruno/miniconda3/envs/mytest/lib/python3.11/site-packages (from ipython->ipython-sql) (4.8.0)\n",
      "Requirement already satisfied: wcwidth in /home/bruno/miniconda3/envs/mytest/lib/python3.11/site-packages (from prettytable->ipython-sql) (0.2.6)\n",
      "Requirement already satisfied: parso<0.9.0,>=0.8.0 in /home/bruno/miniconda3/envs/mytest/lib/python3.11/site-packages (from jedi>=0.16->ipython->ipython-sql) (0.8.3)\n",
      "Requirement already satisfied: ptyprocess>=0.5 in /home/bruno/miniconda3/envs/mytest/lib/python3.11/site-packages (from pexpect>4.3->ipython->ipython-sql) (0.7.0)\n",
      "Requirement already satisfied: executing>=1.2.0 in /home/bruno/miniconda3/envs/mytest/lib/python3.11/site-packages (from stack-data->ipython->ipython-sql) (1.2.0)\n",
      "Requirement already satisfied: asttokens>=2.1.0 in /home/bruno/miniconda3/envs/mytest/lib/python3.11/site-packages (from stack-data->ipython->ipython-sql) (2.2.1)\n",
      "Requirement already satisfied: pure-eval in /home/bruno/miniconda3/envs/mytest/lib/python3.11/site-packages (from stack-data->ipython->ipython-sql) (0.2.2)\n",
      "Installing collected packages: kafka-python, sqlparse, prettytable, greenlet, sqlalchemy, ipython-sql\n",
      "Successfully installed greenlet-2.0.2 ipython-sql-0.5.0 kafka-python-2.0.2 prettytable-3.6.0 sqlalchemy-2.0.4 sqlparse-0.4.3\n",
      "Collecting package metadata (current_repodata.json): done\n",
      "Solving environment: done\n",
      "\n",
      "## Package Plan ##\n",
      "\n",
      "  environment location: /home/bruno/miniconda3/envs/mytest\n",
      "\n",
      "  added / updated specs:\n",
      "    - java-jre\n",
      "\n",
      "\n",
      "The following NEW packages will be INSTALLED:\n",
      "\n",
      "  java-jre           cyclus/linux-64::java-jre-8.45.14-0 \n",
      "\n",
      "The following packages will be UPDATED:\n",
      "\n",
      "  ca-certificates    conda-forge::ca-certificates-2022.12.~ --> pkgs/main::ca-certificates-2023.01.10-h06a4308_0 \n",
      "\n",
      "The following packages will be SUPERSEDED by a higher-priority channel:\n",
      "\n",
      "  openssl            conda-forge::openssl-1.1.1t-h0b41bf4_0 --> pkgs/main::openssl-1.1.1t-h7f8727e_0 \n",
      "\n",
      "\n",
      "\n",
      "Downloading and Extracting Packages\n",
      "\n",
      "Preparing transaction: done\n",
      "Verifying transaction: done\n",
      "Executing transaction: done\n",
      "\n",
      "Note: you may need to restart the kernel to use updated packages.\n"
     ]
    }
   ],
   "source": [
    "!pip install sqlalchemy ipython-sql kafka-python\n",
    "%conda install -c cyclus java-jre"
   ]
  },
  {
   "attachments": {},
   "cell_type": "markdown",
   "metadata": {},
   "source": [
    "### Execution"
   ]
  },
  {
   "attachments": {},
   "cell_type": "markdown",
   "metadata": {},
   "source": [
    "Step 2: Download Kafka"
   ]
  },
  {
   "cell_type": "code",
   "execution_count": 2,
   "metadata": {},
   "outputs": [
    {
     "name": "stdout",
     "output_type": "stream",
     "text": [
      "--2023-03-01 13:53:48--  https://archive.apache.org/dist/kafka/2.8.0/kafka_2.12-2.8.0.tgz\n",
      "Resolving archive.apache.org (archive.apache.org)... 138.201.131.134, 2a01:4f8:172:2ec5::2\n",
      "Connecting to archive.apache.org (archive.apache.org)|138.201.131.134|:443... connected.\n",
      "HTTP request sent, awaiting response... 200 OK\n",
      "Length: 71542357 (68M) [application/x-gzip]\n",
      "Saving to: ‘/tmp/kafka_2.12-2.8.0.tgz’\n",
      "\n",
      "kafka_2.12-2.8.0.tg 100%[===================>]  68.23M  1.37MB/s    in 49s     \n",
      "\n",
      "2023-03-01 13:54:38 (1.40 MB/s) - ‘/tmp/kafka_2.12-2.8.0.tgz’ saved [71542357/71542357]\n",
      "\n"
     ]
    }
   ],
   "source": [
    "!wget -P /tmp https://archive.apache.org/dist/kafka/2.8.0/kafka_2.12-2.8.0.tgz"
   ]
  },
  {
   "attachments": {},
   "cell_type": "markdown",
   "metadata": {},
   "source": [
    "Step 3: Extract Kafka"
   ]
  },
  {
   "cell_type": "code",
   "execution_count": 3,
   "metadata": {},
   "outputs": [],
   "source": [
    "!tar -xzf /tmp/kafka_2.12-2.8.0.tgz -C /tmp"
   ]
  },
  {
   "attachments": {},
   "cell_type": "markdown",
   "metadata": {},
   "source": [
    "Step 7: Start Zookeeper"
   ]
  },
  {
   "attachments": {},
   "cell_type": "markdown",
   "metadata": {},
   "source": [
    "* Open a new terminal and run the following command:\n",
    "* `/tmp/kafka_2.12-2.8.0/bin/zookeeper-server-start.sh /tmp/kafka_2.12-2.8.0/config/zookeeper.properties`"
   ]
  },
  {
   "attachments": {},
   "cell_type": "markdown",
   "metadata": {},
   "source": [
    "Step 8: Start Kafka server"
   ]
  },
  {
   "attachments": {},
   "cell_type": "markdown",
   "metadata": {},
   "source": [
    "* Open a new terminal and run the following command:\n",
    "* `/tmp/kafka_2.12-2.8.0/bin/kafka-server-start.sh /tmp/kafka_2.12-2.8.0/config/server.properties`"
   ]
  },
  {
   "attachments": {},
   "cell_type": "markdown",
   "metadata": {},
   "source": [
    "Step 9: Create a topic named toll in kafka"
   ]
  },
  {
   "cell_type": "code",
   "execution_count": 4,
   "metadata": {},
   "outputs": [
    {
     "name": "stdout",
     "output_type": "stream",
     "text": [
      "Created topic toll.\n"
     ]
    }
   ],
   "source": [
    "!/tmp/kafka_2.12-2.8.0/bin/kafka-topics.sh --create --topic toll --bootstrap-server localhost:9092"
   ]
  },
  {
   "attachments": {},
   "cell_type": "markdown",
   "metadata": {},
   "source": [
    "Step 10: Download toll traffic simulator program <<Thanks, IBM!>>"
   ]
  },
  {
   "cell_type": "code",
   "execution_count": 5,
   "metadata": {},
   "outputs": [
    {
     "name": "stdout",
     "output_type": "stream",
     "text": [
      "--2023-03-01 13:57:29--  https://cf-courses-data.s3.us.cloud-object-storage.appdomain.cloud/IBM-DB0250EN-SkillsNetwork/labs/Final%20Assignment/toll_traffic_generator.py\n",
      "Resolving cf-courses-data.s3.us.cloud-object-storage.appdomain.cloud (cf-courses-data.s3.us.cloud-object-storage.appdomain.cloud)... 169.63.118.104\n",
      "Connecting to cf-courses-data.s3.us.cloud-object-storage.appdomain.cloud (cf-courses-data.s3.us.cloud-object-storage.appdomain.cloud)|169.63.118.104|:443... connected.\n",
      "HTTP request sent, awaiting response... 200 OK\n",
      "Length: 828 [text/x-python]\n",
      "Saving to: ‘/tmp/toll_traffic_generator.py’\n",
      "\n",
      "toll_traffic_genera 100%[===================>]     828  --.-KB/s    in 0s      \n",
      "\n",
      "2023-03-01 13:57:31 (146 MB/s) - ‘/tmp/toll_traffic_generator.py’ saved [828/828]\n",
      "\n"
     ]
    }
   ],
   "source": [
    "!wget -P /tmp https://cf-courses-data.s3.us.cloud-object-storage.appdomain.cloud/IBM-DB0250EN-SkillsNetwork/labs/Final%20Assignment/toll_traffic_generator.py"
   ]
  },
  {
   "attachments": {},
   "cell_type": "markdown",
   "metadata": {},
   "source": [
    "Step 11: Customize the generator program, changing topic to \"toll\""
   ]
  },
  {
   "attachments": {},
   "cell_type": "markdown",
   "metadata": {},
   "source": [
    "* Open a new terminal and type `nano /tmp/toll_traffic_generator.py`\n",
    "* Change the TOPIC variable to \"toll\"\n",
    "* Press CTRL+O to save\n",
    "* Press ENTER/RETURN to confirm\n",
    "* Press CTRL+X to exit nano"
   ]
  },
  {
   "attachments": {},
   "cell_type": "markdown",
   "metadata": {},
   "source": [
    "Step 12: Run the Toll Traffic Simulator"
   ]
  },
  {
   "attachments": {},
   "cell_type": "markdown",
   "metadata": {},
   "source": [
    "* Open a new terminal and type: `python3 /tmp/toll_traffic_generator.py`\n",
    "* In my case, the command was slightly different: `~/miniconda3/envs/mytest/bin/python /tmp/toll_traffic_generator.py`"
   ]
  },
  {
   "attachments": {},
   "cell_type": "markdown",
   "metadata": {},
   "source": [
    "Step 13: Download streaming data reader (consumer) <<Thanks, IBM!>>"
   ]
  },
  {
   "attachments": {},
   "cell_type": "markdown",
   "metadata": {},
   "source": [
    "* You don't need to download if you don't want to. Simply skip this step and go to step 14.\n",
    "* Font: https://cf-courses-data.s3.us.cloud-object-storage.appdomain.cloud/IBM-DB0250EN-SkillsNetwork/labs/Final%20Assignment/streaming_data_reader.py"
   ]
  },
  {
   "attachments": {},
   "cell_type": "markdown",
   "metadata": {},
   "source": [
    "Step 14: Customize the consumer program to write into a SQLite database table"
   ]
  },
  {
   "cell_type": "code",
   "execution_count": 6,
   "metadata": {},
   "outputs": [],
   "source": [
    "%%bash\n",
    "echo -e 'from datetime import datetime\n",
    "from kafka import KafkaConsumer\n",
    "import sqlite3\n",
    "\n",
    "TOPIC=\"toll\"\n",
    "\n",
    "print(\"Connecting to the database\")\n",
    "try:\n",
    "    connection = sqlite3.connect(\"file:/tmp/kafka-project.db\", uri=True)\n",
    "except Exception:\n",
    "    print(\"Could not connect to database\")\n",
    "else:\n",
    "    print(\"Connected to database\")\n",
    "cursor = connection.cursor()\n",
    "\n",
    "#Create table\n",
    "print(\"creating table\")\n",
    "try:\n",
    "    cursor.execute(\"\"\"create table livetolldata(\n",
    "        timestamp datetime,\n",
    "        vehicle_id int,\n",
    "        vehicle_type char(15),\n",
    "        toll_plaza_id smallint\n",
    "        );\"\"\")\n",
    "except Exception:\n",
    "    print(\"table already exists\")\n",
    "else:\n",
    "    print(\"table created successfully\")\n",
    "\n",
    "print(\"Connecting to Kafka\")\n",
    "consumer = KafkaConsumer(TOPIC)\n",
    "print(\"Connected to Kafka\")\n",
    "print(f\"Reading messages from the topic {TOPIC}\")\n",
    "for msg in consumer:\n",
    "\n",
    "    # Extract information from kafka\n",
    "    message = msg.value.decode(\"utf-8\")\n",
    "\n",
    "    # Transform the date format to suit the database schema\n",
    "    (timestamp, vehicle_id, vehicle_type, plaza_id) = message.split(\",\")\n",
    "\n",
    "    dateobj = datetime.strptime(timestamp, \"%a %b %d %H:%M:%S %Y\")\n",
    "    timestamp = dateobj.strftime(\"%Y-%m-%d %H:%M:%S\")\n",
    "\n",
    "    # Loading data into the database table\n",
    "\n",
    "    sql = \"insert into livetolldata values(?,?,?,?)\"\n",
    "    result = cursor.execute(sql, (timestamp, vehicle_id, vehicle_type, plaza_id))\n",
    "    print(f\"{timestamp}: A {vehicle_type} was inserted into the database\")\n",
    "    connection.commit()\n",
    "connection.close()' > /tmp/streaming_data_reader.py"
   ]
  },
  {
   "attachments": {},
   "cell_type": "markdown",
   "metadata": {},
   "source": [
    "Step 15: Run the consumer script"
   ]
  },
  {
   "attachments": {},
   "cell_type": "markdown",
   "metadata": {},
   "source": [
    "* Open a new terminal and type: `python3 /tmp/streaming_data_reader.py`\n",
    "* In my case, the command was slightly different: `~/miniconda3/envs/mytest/bin/python /tmp/streaming_data_reader.py`"
   ]
  },
  {
   "attachments": {},
   "cell_type": "markdown",
   "metadata": {},
   "source": [
    "Step 16: Verify that streamed data is being collected in the database table"
   ]
  },
  {
   "cell_type": "code",
   "execution_count": 8,
   "metadata": {},
   "outputs": [],
   "source": [
    "%load_ext sql"
   ]
  },
  {
   "cell_type": "code",
   "execution_count": 9,
   "metadata": {},
   "outputs": [],
   "source": [
    "%sql sqlite:////tmp/kafka-project.db"
   ]
  },
  {
   "cell_type": "code",
   "execution_count": 10,
   "metadata": {},
   "outputs": [
    {
     "name": "stdout",
     "output_type": "stream",
     "text": [
      " * sqlite:////tmp/kafka-project.db\n",
      "Done.\n"
     ]
    },
    {
     "data": {
      "text/html": [
       "<table>\n",
       "    <thead>\n",
       "        <tr>\n",
       "            <th>timestamp</th>\n",
       "            <th>vehicle_id</th>\n",
       "            <th>vehicle_type</th>\n",
       "            <th>toll_plaza_id</th>\n",
       "        </tr>\n",
       "    </thead>\n",
       "    <tbody>\n",
       "        <tr>\n",
       "            <td>2023-03-01 14:03:32</td>\n",
       "            <td>2591719</td>\n",
       "            <td>van</td>\n",
       "            <td>4006</td>\n",
       "        </tr>\n",
       "        <tr>\n",
       "            <td>2023-03-01 14:03:30</td>\n",
       "            <td>5157328</td>\n",
       "            <td>car</td>\n",
       "            <td>4010</td>\n",
       "        </tr>\n",
       "        <tr>\n",
       "            <td>2023-03-01 14:03:30</td>\n",
       "            <td>6547008</td>\n",
       "            <td>car</td>\n",
       "            <td>4003</td>\n",
       "        </tr>\n",
       "        <tr>\n",
       "            <td>2023-03-01 14:03:30</td>\n",
       "            <td>2166340</td>\n",
       "            <td>van</td>\n",
       "            <td>4007</td>\n",
       "        </tr>\n",
       "        <tr>\n",
       "            <td>2023-03-01 14:03:28</td>\n",
       "            <td>6019706</td>\n",
       "            <td>truck</td>\n",
       "            <td>4002</td>\n",
       "        </tr>\n",
       "        <tr>\n",
       "            <td>2023-03-01 14:03:28</td>\n",
       "            <td>1268925</td>\n",
       "            <td>car</td>\n",
       "            <td>4009</td>\n",
       "        </tr>\n",
       "        <tr>\n",
       "            <td>2023-03-01 14:03:27</td>\n",
       "            <td>6792527</td>\n",
       "            <td>car</td>\n",
       "            <td>4006</td>\n",
       "        </tr>\n",
       "        <tr>\n",
       "            <td>2023-03-01 14:03:27</td>\n",
       "            <td>1392831</td>\n",
       "            <td>van</td>\n",
       "            <td>4005</td>\n",
       "        </tr>\n",
       "        <tr>\n",
       "            <td>2023-03-01 14:03:25</td>\n",
       "            <td>3369299</td>\n",
       "            <td>car</td>\n",
       "            <td>4001</td>\n",
       "        </tr>\n",
       "        <tr>\n",
       "            <td>2023-03-01 14:03:24</td>\n",
       "            <td>1421570</td>\n",
       "            <td>truck</td>\n",
       "            <td>4010</td>\n",
       "        </tr>\n",
       "    </tbody>\n",
       "</table>"
      ],
      "text/plain": [
       "[('2023-03-01 14:03:32', 2591719, 'van', 4006),\n",
       " ('2023-03-01 14:03:30', 5157328, 'car', 4010),\n",
       " ('2023-03-01 14:03:30', 6547008, 'car', 4003),\n",
       " ('2023-03-01 14:03:30', 2166340, 'van', 4007),\n",
       " ('2023-03-01 14:03:28', 6019706, 'truck', 4002),\n",
       " ('2023-03-01 14:03:28', 1268925, 'car', 4009),\n",
       " ('2023-03-01 14:03:27', 6792527, 'car', 4006),\n",
       " ('2023-03-01 14:03:27', 1392831, 'van', 4005),\n",
       " ('2023-03-01 14:03:25', 3369299, 'car', 4001),\n",
       " ('2023-03-01 14:03:24', 1421570, 'truck', 4010)]"
      ]
     },
     "execution_count": 10,
     "metadata": {},
     "output_type": "execute_result"
    }
   ],
   "source": [
    "%sql SELECT * FROM livetolldata order by timestamp desc LIMIT 10"
   ]
  }
 ],
 "metadata": {
  "kernelspec": {
   "display_name": "mytest",
   "language": "python",
   "name": "python3"
  },
  "language_info": {
   "codemirror_mode": {
    "name": "ipython",
    "version": 3
   },
   "file_extension": ".py",
   "mimetype": "text/x-python",
   "name": "python",
   "nbconvert_exporter": "python",
   "pygments_lexer": "ipython3",
   "version": "3.11.0"
  },
  "orig_nbformat": 4,
  "vscode": {
   "interpreter": {
    "hash": "3156d5e031489879d21d24b1930f2a20eafcb9b25c0e902ed513e14b5548b057"
   }
  }
 },
 "nbformat": 4,
 "nbformat_minor": 2
}
