{
 "cells": [
  {
   "attachments": {},
   "cell_type": "markdown",
   "metadata": {},
   "source": [
    "Step 1: Download Kafka"
   ]
  },
  {
   "cell_type": "code",
   "execution_count": null,
   "metadata": {},
   "outputs": [],
   "source": [
    "!wget https://archive.apache.org/dist/kafka/2.8.0/kafka_2.12-2.8.0.tgz"
   ]
  },
  {
   "attachments": {},
   "cell_type": "markdown",
   "metadata": {},
   "source": [
    "Step 2: Extract Kafka"
   ]
  },
  {
   "cell_type": "code",
   "execution_count": null,
   "metadata": {},
   "outputs": [],
   "source": [
    "!tar -xzf kafka_2.12-2.8.0.tgz"
   ]
  },
  {
   "attachments": {},
   "cell_type": "markdown",
   "metadata": {},
   "source": [
    "Step 3: Start a MySQL Database server"
   ]
  },
  {
   "cell_type": "code",
   "execution_count": null,
   "metadata": {},
   "outputs": [],
   "source": [
    "!start_mysql"
   ]
  },
  {
   "attachments": {},
   "cell_type": "markdown",
   "metadata": {},
   "source": [
    "Step 4: Connect to the MySQL Database"
   ]
  },
  {
   "cell_type": "code",
   "execution_count": null,
   "metadata": {},
   "outputs": [],
   "source": [
    "!mysql --host=127.0.0.1 --port=3306 --user=root --password=NDE2Mi1uMm9tYW5v"
   ]
  },
  {
   "attachments": {},
   "cell_type": "markdown",
   "metadata": {},
   "source": [
    "Step 5: Create a database named tolldata"
   ]
  },
  {
   "cell_type": "code",
   "execution_count": null,
   "metadata": {},
   "outputs": [],
   "source": [
    "mysql> create database tolldata;"
   ]
  },
  {
   "attachments": {},
   "cell_type": "markdown",
   "metadata": {},
   "source": [
    "Step 6: Create a table named livetolldata"
   ]
  },
  {
   "cell_type": "code",
   "execution_count": null,
   "metadata": {},
   "outputs": [],
   "source": [
    "mysql> use tolldata;\n",
    "\n",
    "mysql> create table livetolldata(timestamp datetime,vehicle_id int,vehicle_type char(15),toll_plaza_id smallint);"
   ]
  },
  {
   "attachments": {},
   "cell_type": "markdown",
   "metadata": {},
   "source": [
    "Step 7: Disconnect from MySQL server"
   ]
  },
  {
   "cell_type": "code",
   "execution_count": null,
   "metadata": {},
   "outputs": [],
   "source": [
    "mysql> exit"
   ]
  },
  {
   "attachments": {},
   "cell_type": "markdown",
   "metadata": {},
   "source": [
    "Step 8: Install Kafka Python driver"
   ]
  },
  {
   "cell_type": "code",
   "execution_count": null,
   "metadata": {},
   "outputs": [],
   "source": [
    "!python3 -m pip install kafka-python"
   ]
  },
  {
   "attachments": {},
   "cell_type": "markdown",
   "metadata": {},
   "source": [
    "Step 9: Install the MySQL Python driver"
   ]
  },
  {
   "cell_type": "code",
   "execution_count": null,
   "metadata": {},
   "outputs": [],
   "source": [
    "!python3 -m pip install mysql-connector-python==8.0.31"
   ]
  },
  {
   "attachments": {},
   "cell_type": "markdown",
   "metadata": {},
   "source": [
    "Step 10: Start Zookeeper"
   ]
  },
  {
   "cell_type": "code",
   "execution_count": null,
   "metadata": {},
   "outputs": [],
   "source": [
    "!cd kafka_2.12-2.8.0\n",
    "!bin/zookeeper-server-start.sh config/zookeeper.properties"
   ]
  },
  {
   "attachments": {},
   "cell_type": "markdown",
   "metadata": {},
   "source": [
    "Step 11: Start Kafka server"
   ]
  },
  {
   "cell_type": "code",
   "execution_count": null,
   "metadata": {},
   "outputs": [],
   "source": [
    "!cd kafka_2.12-2.8.0\n",
    "!bin/kafka-server-start.sh config/server.properties"
   ]
  },
  {
   "attachments": {},
   "cell_type": "markdown",
   "metadata": {},
   "source": [
    "Step 12: Create a topic named toll in kafka"
   ]
  },
  {
   "cell_type": "code",
   "execution_count": null,
   "metadata": {},
   "outputs": [],
   "source": [
    "!cd kafka_2.12-2.8.0\n",
    "!bin/kafka-topics.sh --create --topic toll --bootstrap-server localhost:9092"
   ]
  },
  {
   "attachments": {},
   "cell_type": "markdown",
   "metadata": {},
   "source": [
    "Step 13: Download toll traffic simulator program"
   ]
  },
  {
   "cell_type": "code",
   "execution_count": null,
   "metadata": {},
   "outputs": [],
   "source": [
    "!wget https://cf-courses-data.s3.us.cloud-object-storage.appdomain.cloud/IBM-DB0250EN-SkillsNetwork/labs/Final%20Assignment/toll_traffic_generator.py"
   ]
  },
  {
   "attachments": {},
   "cell_type": "markdown",
   "metadata": {},
   "source": [
    "Step 14: Customize the generator program to steam to toll topic"
   ]
  },
  {
   "cell_type": "code",
   "execution_count": null,
   "metadata": {},
   "outputs": [
    {
     "ename": "",
     "evalue": "",
     "output_type": "error",
     "traceback": [
      "\u001b[1;31mRunning cells with 'bruno' requires the ipykernel package.\n",
      "\u001b[1;31mRun the following command to install 'ipykernel' into the Python environment. \n",
      "\u001b[1;31mCommand: 'conda install -n bruno ipykernel --update-deps --force-reinstall'"
     ]
    }
   ],
   "source": [
    "\"\"\"\n",
    "Top Traffic Simulator\n",
    "\"\"\"\n",
    "from time import sleep, time, ctime\n",
    "from random import random, randint, choice\n",
    "from kafka import KafkaProducer\n",
    "producer = KafkaProducer(bootstrap_servers='localhost:9092')\n",
    "\n",
    "TOPIC = 'toll'\n",
    "\n",
    "VEHICLE_TYPES = (\"car\", \"car\", \"car\", \"car\", \"car\", \"car\", \"car\", \"car\",\n",
    "                 \"car\", \"car\", \"car\", \"truck\", \"truck\", \"truck\",\n",
    "                 \"truck\", \"van\", \"van\")\n",
    "for _ in range(100000):\n",
    "    vehicle_id = randint(10000, 10000000)\n",
    "    vehicle_type = choice(VEHICLE_TYPES)\n",
    "    now = ctime(time())\n",
    "    plaza_id = randint(4000, 4010)\n",
    "    message = f\"{now},{vehicle_id},{vehicle_type},{plaza_id}\"\n",
    "    message = bytearray(message.encode(\"utf-8\"))\n",
    "    print(f\"A {vehicle_type} has passed by the toll plaza {plaza_id} at {now}.\")\n",
    "    producer.send(TOPIC, message)\n",
    "    sleep(random() * 2)\n"
   ]
  },
  {
   "attachments": {},
   "cell_type": "markdown",
   "metadata": {},
   "source": [
    "Step 15: Run the Toll Traffic Simulator"
   ]
  },
  {
   "cell_type": "code",
   "execution_count": null,
   "metadata": {},
   "outputs": [],
   "source": [
    "!python3 toll_traffic_generator.py"
   ]
  },
  {
   "attachments": {},
   "cell_type": "markdown",
   "metadata": {},
   "source": [
    "Step 16: Download streaming data reader (consumer)"
   ]
  },
  {
   "cell_type": "code",
   "execution_count": null,
   "metadata": {},
   "outputs": [],
   "source": [
    "!https://cf-courses-data.s3.us.cloud-object-storage.appdomain.cloud/IBM-DB0250EN-SkillsNetwork/labs/Final%20Assignment/streaming_data_reader.py"
   ]
  },
  {
   "attachments": {},
   "cell_type": "markdown",
   "metadata": {},
   "source": [
    "Step 17: Customize the consumer program to write into a MySQL database table"
   ]
  },
  {
   "cell_type": "code",
   "execution_count": null,
   "metadata": {},
   "outputs": [],
   "source": [
    "\"\"\"\n",
    "Streaming data consumer\n",
    "\"\"\"\n",
    "from datetime import datetime\n",
    "from kafka import KafkaConsumer\n",
    "import mysql.connector\n",
    "\n",
    "TOPIC='toll'\n",
    "DATABASE = 'tolldata'\n",
    "USERNAME = 'root'\n",
    "PASSWORD = 'NDE2Mi1uMm9tYW5v'\n",
    "\n",
    "print(\"Connecting to the database\")\n",
    "try:\n",
    "    connection = mysql.connector.connect(host='localhost', database=DATABASE, user=USERNAME, password=PASSWORD)\n",
    "except Exception:\n",
    "    print(\"Could not connect to database. Please check credentials\")\n",
    "else:\n",
    "    print(\"Connected to database\")\n",
    "cursor = connection.cursor()\n",
    "\n",
    "print(\"Connecting to Kafka\")\n",
    "consumer = KafkaConsumer(TOPIC)\n",
    "print(\"Connected to Kafka\")\n",
    "print(f\"Reading messages from the topic {TOPIC}\")\n",
    "for msg in consumer:\n",
    "\n",
    "    # Extract information from kafka\n",
    "\n",
    "    message = msg.value.decode(\"utf-8\")\n",
    "\n",
    "    # Transform the date format to suit the database schema\n",
    "    (timestamp, vehcile_id, vehicle_type, plaza_id) = message.split(\",\")\n",
    "\n",
    "    dateobj = datetime.strptime(timestamp, '%a %b %d %H:%M:%S %Y')\n",
    "    timestamp = dateobj.strftime(\"%Y-%m-%d %H:%M:%S\")\n",
    "\n",
    "    # Loading data into the database table\n",
    "\n",
    "    sql = \"insert into livetolldata values(%s,%s,%s,%s)\"\n",
    "    result = cursor.execute(sql, (timestamp, vehcile_id, vehicle_type, plaza_id))\n",
    "    print(f\"A {vehicle_type} was inserted into the database\")\n",
    "    connection.commit()\n",
    "connection.close()\n"
   ]
  },
  {
   "attachments": {},
   "cell_type": "markdown",
   "metadata": {},
   "source": [
    "Step 17: Verify that streamed data is being collected in the database table"
   ]
  },
  {
   "cell_type": "code",
   "execution_count": null,
   "metadata": {},
   "outputs": [],
   "source": []
  }
 ],
 "metadata": {
  "kernelspec": {
   "display_name": "bruno",
   "language": "python",
   "name": "python3"
  },
  "language_info": {
   "name": "python",
   "version": "3.10.9"
  },
  "orig_nbformat": 4,
  "vscode": {
   "interpreter": {
    "hash": "49c5129af52e5ae292242ff4c781e23b5dd85e482bbbd8076ed194ed4ccd146f"
   }
  }
 },
 "nbformat": 4,
 "nbformat_minor": 2
}
